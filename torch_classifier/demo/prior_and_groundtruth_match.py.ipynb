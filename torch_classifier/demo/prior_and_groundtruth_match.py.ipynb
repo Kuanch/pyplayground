{
 "cells": [
  {
   "cell_type": "code",
   "execution_count": null,
   "metadata": {},
   "outputs": [],
   "source": [
    "import sys\n",
    "\n",
    "sys.path.insert(0, '..')\n",
    "\n",
    "import torch\n",
    "import numpy as np\n",
    "from torchvision import transforms\n",
    "\n",
    "from dataset.dataloader import TorchLoader\n",
    "from net.intermediate import IntermediateNetwork\n",
    "from net.ssd import SSD300, MultiBoxLoss\n",
    "from utils.obj_utils import cxcy_to_xy\n",
    "\n",
    "device = torch.device(\"cuda\" if torch.cuda.is_available() else \"cpu\") "
   ]
  },
  {
   "cell_type": "code",
   "execution_count": null,
   "metadata": {},
   "outputs": [],
   "source": [
    "coco_root = '/home/sixigma/workplace/meow/coco_data/'"
   ]
  },
  {
   "cell_type": "code",
   "execution_count": null,
   "metadata": {},
   "outputs": [],
   "source": [
    "import torchvision\n",
    "\n",
    "coco = torchvision.datasets.coco.CocoDetection(root=coco_root + 'train/train2017/', annFile=coco_root + 'annotations/instances_train2017.json')"
   ]
  },
  {
   "cell_type": "code",
   "execution_count": null,
   "metadata": {},
   "outputs": [],
   "source": [
    "resnet = IntermediateNetwork('resnet50', [5, 6])\n",
    "ssd_net = SSD300(resnet, 80)"
   ]
  },
  {
   "cell_type": "code",
   "execution_count": null,
   "metadata": {},
   "outputs": [],
   "source": [
    "priors = cxcy_to_xy(ssd_net.priors_cxcy).to(device)\n",
    "multibox = MultiBoxLoss(priors.to(device))\n",
    "boxes = []\n",
    "labels = []\n",
    "width, height = coco[1][0].size\n",
    "for obj in range(len(coco[1][1])):\n",
    "    # coco bounding box format [top left x position, top left y position, width, height]\n",
    "    box = coco[1][1][obj]['bbox']\n",
    "    box = [box[0] / width, box[1] / height, box[0] / width + box[2] / width, box[1] / height + box[3] / height]\n",
    "    boxes.append(box)\n",
    "    labels.append(coco[1][1][obj]['category_id'])\n",
    "t_boxes = torch.FloatTensor([boxes]).to(device)\n",
    "t_labels = torch.FloatTensor([labels]).to(device)"
   ]
  },
  {
   "cell_type": "code",
   "execution_count": null,
   "metadata": {},
   "outputs": [],
   "source": [
    "image = np.array(transforms.Resize((300, 300))((coco[0][0])))\n",
    "t_image = torch.from_numpy(image).permute(2, 0, 1).float().to(device)\n",
    "locs, cls = ssd_net(transforms.Normalize(0, 255)(t_image).expand([1, -1, -1, -1]))\n",
    "locs = locs.to(device)\n",
    "cls = cls.to(device)"
   ]
  },
  {
   "cell_type": "code",
   "execution_count": null,
   "metadata": {},
   "outputs": [],
   "source": [
    "loss = multibox(locs, cls, t_boxes, t_labels)\n",
    "loss"
   ]
  },
  {
   "cell_type": "code",
   "execution_count": null,
   "metadata": {},
   "outputs": [],
   "source": [
    "locs.shape, t_boxes.shape, priors.shape"
   ]
  },
  {
   "cell_type": "code",
   "execution_count": null,
   "metadata": {},
   "outputs": [],
   "source": [
    "locs[:, :2, :], priors[:2, :], t_boxes[:, :8, :]"
   ]
  },
  {
   "cell_type": "code",
   "execution_count": null,
   "metadata": {},
   "outputs": [],
   "source": [
    "t_labels, cls"
   ]
  },
  {
   "cell_type": "code",
   "execution_count": null,
   "metadata": {},
   "outputs": [],
   "source": [
    "# Get intersection bounding box left_top and right_down coordinate\n",
    "lower_bounds = torch.max(t_boxes[0, :, :2].unsqueeze(1), priors[:, :2].unsqueeze(0))\n",
    "upper_bounds = torch.min(t_boxes[0, :, 2:].unsqueeze(1), priors[:, 2:].unsqueeze(0))"
   ]
  },
  {
   "cell_type": "code",
   "execution_count": null,
   "metadata": {},
   "outputs": [],
   "source": [
    "# Get intersection bounding box width and height\n",
    "intersection_dims = torch.clamp(upper_bounds - lower_bounds, min=0)\n",
    "\n",
    "# Get volumn of intersection bounding box\n",
    "intersection_area = intersection_dims[:, :, 0] * intersection_dims[:, :, 1]\n",
    "\n",
    "# \n",
    "areas_set_1 = (t_boxes[0, :, 2] - t_boxes[0, :, 0]) * (t_boxes[0, :, 3] - t_boxes[0, :, 1])\n",
    "areas_set_2 = (priors[:, 2] - priors[:, 0]) * (priors[:, 3] - priors[:, 1])\n",
    "\n",
    "union = areas_set_1.unsqueeze(1) + areas_set_2.unsqueeze(0) - intersection_area\n",
    "iou = intersection_area / union  # shape (n_obj, 8732)"
   ]
  },
  {
   "cell_type": "code",
   "execution_count": null,
   "metadata": {},
   "outputs": [],
   "source": [
    "overlap_for_every_obj_iou, overlap_for_every_obj_idx = iou.max(dim=1) # shape (n_obj)"
   ]
  },
  {
   "cell_type": "code",
   "execution_count": null,
   "metadata": {},
   "outputs": [],
   "source": [
    "import matplotlib.pyplot as plt\n",
    "import matplotlib.patches as patches\n",
    "\n",
    "plt.figure()\n",
    "fig, ax = plt.subplots(1, figsize=(12,9))\n",
    "ax.imshow(coco[1][0])\n",
    "\n",
    "# Get bounding-box colors\n",
    "cmap = plt.get_cmap('tab20b')\n",
    "colors = [cmap(i) for i in np.linspace(0, 1, 20)]\n",
    "\n",
    "# groundtruth box\n",
    "for obj in boxes:\n",
    "    x = obj[0] * width\n",
    "    y = obj[1] * height\n",
    "    box_w = (obj[2] - obj[0]) * width\n",
    "    box_h = (obj[3] - obj[1]) * height\n",
    "    bbox = patches.Rectangle((x, y), box_w, box_h,\n",
    "             linewidth=2, edgecolor='r', facecolor='none')\n",
    "    ax.add_patch(bbox)\n",
    "    \n",
    "for prior in priors[overlap_for_every_obj_idx]:\n",
    "    x = prior[0] * width\n",
    "    y = prior[1] * height\n",
    "    box_w = (prior[2] - prior[0]) * width\n",
    "    box_h = (prior[3] - prior[1]) * height\n",
    "    bbox = patches.Rectangle((x, y), box_w, box_h,\n",
    "             linewidth=2, edgecolor='b', facecolor='none')\n",
    "    ax.add_patch(bbox)\n",
    "\n",
    "plt.show()"
   ]
  },
  {
   "cell_type": "code",
   "execution_count": null,
   "metadata": {},
   "outputs": [],
   "source": []
  }
 ],
 "metadata": {
  "kernelspec": {
   "display_name": "Python 3",
   "language": "python",
   "name": "python3"
  },
  "language_info": {
   "codemirror_mode": {
    "name": "ipython",
    "version": 3
   },
   "file_extension": ".py",
   "mimetype": "text/x-python",
   "name": "python",
   "nbconvert_exporter": "python",
   "pygments_lexer": "ipython3",
   "version": "3.6.9"
  }
 },
 "nbformat": 4,
 "nbformat_minor": 4
}
